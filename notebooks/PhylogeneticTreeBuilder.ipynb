# Phylogenetic Tree Builder

This Jupyter Notebook demonstrates a basic workflow for building a phylogenetic tree using sequence alignment and visualization.

## 1. Introduction

In this notebook, we will use sequence data and metadata to perform the following steps:
1. Load sequence data and metadata
2. Perform sequence alignment
3. Build a phylogenetic tree
4. Visualize the phylogenetic tree

Let's get started!

## 2. Load Data

```python
import pandas as pd
from Bio import SeqIO

# Load sequence data from FASTA file
sequences = SeqIO.parse('data/sequences.fasta', 'fasta')

# Load metadata from CSV file
metadata = pd.read_csv('data/metadata.csv')

# Display the first few rows of the metadata
metadata.head()

3. Perform Sequence Alignment

from Bio import Align

# Create a list of sequence records
sequence_records = [SeqIO.SeqRecord(Seq(seq_data['sequence']), id=seq_id) for seq_id, seq_data in sequence_dict.items()]

# Perform sequence alignment using ClustalW
alignment = Align.MultipleSeqAlignment(sequence_records)

# Save the alignment in FASTA format
SeqIO.write(alignment, 'results/aligned_sequences.fasta', 'fasta')

print("Sequence alignment has been performed and saved as 'results/aligned_sequences.fasta'.")

4. Build Phylogenetic Tree

from Bio import Phylo

# Load the phylogenetic tree from the Newick file
tree = Phylo.read('results/tree.nwk', 'newick')

# Customize the tree visualization (optional)
Phylo.draw(tree, branch_labels=lambda c: f"{c.branch_length:.2f}", do_show=False)
Phylo.draw_ascii(tree)

print("Phylogenetic tree has been loaded and visualized.")

5. Visualize Phylogenetic Tree

# Save the tree visualization as an image
Phylo.draw(tree, branch_labels=lambda c: f"{c.branch_length:.2f}", do_show=False)
Phylo.draw_ascii(tree)

print("Tree visualization has been created and displayed.")

6. Conclusion

In this notebook, we have demonstrated a basic workflow for building and visualizing a phylogenetic tree using sequence alignment and visualization techniques. This process can provide insights into the evolutionary relationships between different biological sequences.

Feel free to adapt and expand upon this workflow for your specific research needs!

