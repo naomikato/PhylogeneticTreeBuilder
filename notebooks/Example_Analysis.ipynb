# Example Analysis using PhylogeneticTreeBuilder

This Jupyter Notebook demonstrates an example analysis using the tools provided in the PhylogeneticTreeBuilder project.

## 1. Introduction

In this notebook, we will perform an example analysis using the following steps:
1. Load aligned sequences
2. Calculate sequence distances
3. Build a phylogenetic tree
4. Visualize the phylogenetic tree

Let's get started!

## 2. Load Aligned Sequences

```python
from Bio import SeqIO, AlignIO

# Load aligned sequences from FASTA file
alignment = AlignIO.read('results/aligned_sequences.fasta', 'fasta')

# Display the alignment summary
print("Number of sequences:", len(alignment))
print("Alignment length:", alignment.get_alignment_length())

3. Calculate Sequence Distances

# Calculate pairwise distances using p-distance
from Bio.Phylo.TreeConstruction import DistanceCalculator
calculator = DistanceCalculator('identity')
distance_matrix = calculator.get_distance(alignment)

# Display the distance matrix
print(distance_matrix)

4. Build Phylogenetic Tree

from Bio.Phylo.TreeConstruction import DistanceTreeConstructor
from Bio import Phylo

# Build a phylogenetic tree using UPGMA algorithm
constructor = DistanceTreeConstructor()
tree = constructor.upgma(distance_matrix)

# Save the tree in Newick format
Phylo.write(tree, 'results/example_tree.nwk', 'newick')

print("Example phylogenetic tree has been built and saved as 'results/example_tree.nwk'.")

5. Visualize Phylogenetic Tree

# Visualize the example tree
Phylo.draw(tree, branch_labels=lambda c: f"{c.branch_length:.2f}", do_show=False)
Phylo.draw_ascii(tree)

print("Example phylogenetic tree has been visualized.")

6. Conclusion

In this notebook, we have demonstrated an example analysis using the tools provided in the PhylogeneticTreeBuilder project. We loaded aligned sequences, calculated sequence distances, built a phylogenetic tree, and visualized the tree. This example analysis showcases the functionality of the PhylogeneticTreeBuilder tools for studying evolutionary relationships.

Feel free to adapt and expand upon this analysis for your specific research questions!
